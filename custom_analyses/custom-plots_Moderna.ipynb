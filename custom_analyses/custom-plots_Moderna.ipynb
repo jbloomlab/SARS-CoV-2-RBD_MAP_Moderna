{
 "cells": [
  {
   "cell_type": "markdown",
   "metadata": {},
   "source": [
    "# Output PDBs with the *average* escape scores for a given antibody class or plasma/serum group as B factors\n",
    "This Python Jupyter notebook outputs PDBs with the escape scores as B factors.\n",
    "\n",
    "Though we will want more elaborate series of commands to codify our visualization of these RBD structures colored by escape, the series of commands below, when executed in a `PyMol` session with one of these PDBs open, will color the RBD surface according to escape scores.\n",
    "\n",
    "We want to take \n",
    "\n",
    "Alternatively, it might be worth it to take a weighted average of the escape fractions for each condition within in a given group. This might be important because some (noisy) sera have relatively high escape fractions across the entire RBD. We currently show these as flat escape profiles in the logo plots, with ylims that are calculated according to specs in the `escape_profiles_config.yaml` file. These ylims are saved to an output CSV file in the `results/escape_profiles/` subdirectory, so it would be possible to normalize to that y-max value before averaging. This may not be necessary, so we should see how it looks first. \n",
    "\n",
    "Also, we are only interested in the toal escape at a site, not the max mutation effect. \n",
    "     \n",
    "We write PDBs with B factors indicating the group-average total site escape.\n",
    "\n",
    "First, import Python modules:"
   ]
  },
  {
   "cell_type": "code",
   "execution_count": 1,
   "metadata": {},
   "outputs": [],
   "source": [
    "import collections\n",
    "import copy\n",
    "import os\n",
    "import warnings\n",
    "\n",
    "import Bio.PDB\n",
    "\n",
    "import dms_variants.pdb_utils\n",
    "\n",
    "from IPython.display import display, HTML\n",
    "\n",
    "import pandas as pd\n",
    "\n",
    "import yaml"
   ]
  },
  {
   "cell_type": "markdown",
   "metadata": {},
   "source": [
    "Read the configuration file:"
   ]
  },
  {
   "cell_type": "code",
   "execution_count": 2,
   "metadata": {},
   "outputs": [],
   "source": [
    "with open('../config.yaml') as f:\n",
    "    config = yaml.safe_load(f)"
   ]
  },
  {
   "cell_type": "markdown",
   "metadata": {},
   "source": [
    "Read escape profiles config file and configuration for outputting PDBs:"
   ]
  },
  {
   "cell_type": "code",
   "execution_count": 3,
   "metadata": {},
   "outputs": [
    {
     "name": "stdout",
     "output_type": "stream",
     "text": [
      "Reading escape profiles configuration from ../data/escape_profiles_config.yaml\n"
     ]
    }
   ],
   "source": [
    "profiles_config = os.path.join('../', (config['escape_profiles_config']))\n",
    "\n",
    "print(f\"Reading escape profiles configuration from {profiles_config}\")\n",
    "with open(profiles_config) as f:\n",
    "    escape_profiles_config = yaml.safe_load(f)"
   ]
  },
  {
   "cell_type": "markdown",
   "metadata": {},
   "source": [
    "Make output directory:"
   ]
  },
  {
   "cell_type": "code",
   "execution_count": 4,
   "metadata": {},
   "outputs": [],
   "source": [
    "resultsdir = '../results/moderna_custom_plots/pdb_outputs/'\n",
    "os.makedirs(resultsdir, exist_ok=True)"
   ]
  },
  {
   "cell_type": "markdown",
   "metadata": {},
   "source": [
    "Read escape fractions and compute **total** and **maximum** escape at each site, and also the total and maximum escape at each site normalized to be between 0 and 1 for each selection:"
   ]
  },
  {
   "cell_type": "code",
   "execution_count": 5,
   "metadata": {},
   "outputs": [
    {
     "name": "stdout",
     "output_type": "stream",
     "text": [
      "Reading escape fractions from ../results/escape_scores/escape_fracs.csv\n"
     ]
    },
    {
     "data": {
      "text/html": [
       "<table border=\"1\" class=\"dataframe\">\n",
       "  <thead>\n",
       "    <tr style=\"text-align: right;\">\n",
       "      <th>selection</th>\n",
       "      <th>site</th>\n",
       "      <th>total_escape</th>\n",
       "    </tr>\n",
       "  </thead>\n",
       "  <tbody>\n",
       "    <tr>\n",
       "      <td>12C_d152_80</td>\n",
       "      <td>331</td>\n",
       "      <td>0.057853</td>\n",
       "    </tr>\n",
       "    <tr>\n",
       "      <td>12C_d152_80</td>\n",
       "      <td>332</td>\n",
       "      <td>0.089158</td>\n",
       "    </tr>\n",
       "    <tr>\n",
       "      <td>12C_d152_80</td>\n",
       "      <td>333</td>\n",
       "      <td>0.064947</td>\n",
       "    </tr>\n",
       "    <tr>\n",
       "      <td>12C_d152_80</td>\n",
       "      <td>334</td>\n",
       "      <td>0.143838</td>\n",
       "    </tr>\n",
       "    <tr>\n",
       "      <td>12C_d152_80</td>\n",
       "      <td>335</td>\n",
       "      <td>0.092717</td>\n",
       "    </tr>\n",
       "  </tbody>\n",
       "</table>"
      ],
      "text/plain": [
       "<IPython.core.display.HTML object>"
      ]
     },
     "metadata": {},
     "output_type": "display_data"
    }
   ],
   "source": [
    "print(f\"Reading escape fractions from {os.path.join('../', config['escape_fracs'])}\")\n",
    "\n",
    "escape_fracs = (\n",
    "    pd.read_csv(os.path.join('../', config['escape_fracs']))\n",
    "    .query('library == \"average\"')\n",
    "    .assign(site=lambda x: x['label_site'])\n",
    "    .groupby(['selection', 'site'])\n",
    "    .aggregate(total_escape=pd.NamedAgg(config['mut_metric'], 'sum'),\n",
    "#                max_escape=pd.NamedAgg(config['mut_metric'], 'max')\n",
    "               )\n",
    "    .reset_index()\n",
    "    )\n",
    "\n",
    "display(HTML(escape_fracs.head().to_html(index=False)))"
   ]
  },
  {
   "cell_type": "markdown",
   "metadata": {},
   "source": [
    "Now map the escape metrics to the B-factors.\n",
    "For sites where no mutations have escape scores:\n",
    " - In the RBD chain(s) fill the B-factor for non-normalized scores to -1 to enable collapsing to zero or callout as a a separate class, depending how we choose to color sites for different visualizations. \n",
    " - In other chains, always fill missing B factors to 0.  "
   ]
  },
  {
   "cell_type": "code",
   "execution_count": 6,
   "metadata": {},
   "outputs": [
    {
     "name": "stdout",
     "output_type": "stream",
     "text": [
      "\n",
      "Making PDB mappings for AZ_cocktail to ../data/pdbs/6M0J.pdb\n",
      "Making mappings for 3 conditions.\n",
      "Mapping to the following chain: E\n",
      "  Writing B-factor re-assigned PDBs for AZ_cocktail to:\n",
      "    ../results/moderna_custom_plots/pdb_outputs/AZ_cocktail_6m0j_mean_total_escape.pdb\n",
      "\n",
      "Making PDB mappings for human_sera to ../data/pdbs/6M0J.pdb\n",
      "Making mappings for 23 conditions.\n",
      "Mapping to the following chain: E\n",
      "  Writing B-factor re-assigned PDBs for human_sera to:\n",
      "    ../results/moderna_custom_plots/pdb_outputs/human_sera_6m0j_mean_total_escape.pdb\n",
      "\n",
      "Making PDB mappings for NHP_sera to ../data/pdbs/6M0J.pdb\n",
      "Making mappings for 1 conditions.\n",
      "Mapping to the following chain: E\n",
      "  Writing B-factor re-assigned PDBs for NHP_sera to:\n",
      "    ../results/moderna_custom_plots/pdb_outputs/NHP_sera_6m0j_mean_total_escape.pdb\n",
      "\n",
      "Making PDB mappings for EZ_7A to ../data/pdbs/6M0J.pdb\n",
      "Making mappings for 1 conditions.\n",
      "Mapping to the following chain: E\n",
      "  Writing B-factor re-assigned PDBs for EZ_7A to:\n",
      "    ../results/moderna_custom_plots/pdb_outputs/EZ_7A_6m0j_mean_total_escape.pdb\n",
      "\n",
      "Making PDB mappings for REGN_cocktail to ../data/pdbs/6M0J.pdb\n",
      "Making mappings for 3 conditions.\n",
      "Mapping to the following chain: E\n",
      "  Writing B-factor re-assigned PDBs for REGN_cocktail to:\n",
      "    ../results/moderna_custom_plots/pdb_outputs/REGN_cocktail_6m0j_mean_total_escape.pdb\n",
      "\n",
      "Making PDB mappings for LY_cocktail to ../data/pdbs/6M0J.pdb\n",
      "Making mappings for 3 conditions.\n",
      "Mapping to the following chain: E\n",
      "  Writing B-factor re-assigned PDBs for LY_cocktail to:\n",
      "    ../results/moderna_custom_plots/pdb_outputs/LY_cocktail_6m0j_mean_total_escape.pdb\n",
      "\n",
      "Making PDB mappings for Bjorkman_antibodies to ../data/pdbs/6M0J.pdb\n",
      "Making mappings for 6 conditions.\n",
      "Mapping to the following chain: E\n",
      "  Writing B-factor re-assigned PDBs for Bjorkman_antibodies to:\n",
      "    ../results/moderna_custom_plots/pdb_outputs/Bjorkman_antibodies_6m0j_mean_total_escape.pdb\n",
      "\n",
      "Making PDB mappings for Nussenzweig_serum to ../data/pdbs/6M0J.pdb\n",
      "Making mappings for 5 conditions.\n",
      "Mapping to the following chain: E\n",
      "  Writing B-factor re-assigned PDBs for Nussenzweig_serum to:\n",
      "    ../results/moderna_custom_plots/pdb_outputs/Nussenzweig_serum_6m0j_mean_total_escape.pdb\n",
      "\n",
      "Making PDB mappings for all_convalescent to ../data/pdbs/6M0J.pdb\n",
      "Making mappings for 28 conditions.\n",
      "Mapping to the following chain: E\n",
      "  Writing B-factor re-assigned PDBs for all_convalescent to:\n",
      "    ../results/moderna_custom_plots/pdb_outputs/all_convalescent_6m0j_mean_total_escape.pdb\n",
      "\n",
      "Making PDB mappings for IPD_ligands to ../data/pdbs/6M0J.pdb\n",
      "Making mappings for 4 conditions.\n",
      "Mapping to the following chain: E\n",
      "  Writing B-factor re-assigned PDBs for IPD_ligands to:\n",
      "    ../results/moderna_custom_plots/pdb_outputs/IPD_ligands_6m0j_mean_total_escape.pdb\n",
      "\n",
      "Making PDB mappings for S309_duplicates to ../data/pdbs/6M0J.pdb\n",
      "Making mappings for 2 conditions.\n",
      "Mapping to the following chain: E\n",
      "  Writing B-factor re-assigned PDBs for S309_duplicates to:\n",
      "    ../results/moderna_custom_plots/pdb_outputs/S309_duplicates_6m0j_mean_total_escape.pdb\n",
      "\n",
      "Making PDB mappings for vir_antibodies to ../data/pdbs/6M0J.pdb\n",
      "Making mappings for 12 conditions.\n",
      "Mapping to the following chain: E\n",
      "  Writing B-factor re-assigned PDBs for vir_antibodies to:\n",
      "    ../results/moderna_custom_plots/pdb_outputs/vir_antibodies_6m0j_mean_total_escape.pdb\n",
      "\n",
      "Making PDB mappings for Moderna_sera to ../data/pdbs/6M0J.pdb\n",
      "Making mappings for 28 conditions.\n",
      "Mapping to the following chain: E\n",
      "  Writing B-factor re-assigned PDBs for Moderna_sera to:\n",
      "    ../results/moderna_custom_plots/pdb_outputs/Moderna_sera_6m0j_mean_total_escape.pdb\n",
      "\n",
      "Making PDB mappings for NHP_serum_remap to ../data/pdbs/6M0J.pdb\n",
      "Making mappings for 1 conditions.\n",
      "Mapping to the following chain: E\n",
      "  Writing B-factor re-assigned PDBs for NHP_serum_remap to:\n",
      "    ../results/moderna_custom_plots/pdb_outputs/NHP_serum_remap_6m0j_mean_total_escape.pdb\n",
      "\n",
      "Making PDB mappings for COV2-2381 to ../data/pdbs/6M0J.pdb\n",
      "Making mappings for 1 conditions.\n",
      "Mapping to the following chain: E\n",
      "  Writing B-factor re-assigned PDBs for COV2-2381 to:\n",
      "    ../results/moderna_custom_plots/pdb_outputs/COV2-2381_6m0j_mean_total_escape.pdb\n",
      "\n",
      "Making PDB mappings for COV2-2381_COV2-2130 to ../data/pdbs/6M0J.pdb\n",
      "Making mappings for 2 conditions.\n",
      "Mapping to the following chain: E\n",
      "  Writing B-factor re-assigned PDBs for COV2-2381_COV2-2130 to:\n",
      "    ../results/moderna_custom_plots/pdb_outputs/COV2-2381_COV2-2130_6m0j_mean_total_escape.pdb\n",
      "\n",
      "Making PDB mappings for NHP_HCS to ../data/pdbs/6M0J.pdb\n",
      "Making mappings for 4 conditions.\n",
      "Mapping to the following chain: E\n",
      "  Writing B-factor re-assigned PDBs for NHP_HCS to:\n",
      "    ../results/moderna_custom_plots/pdb_outputs/NHP_HCS_6m0j_mean_total_escape.pdb\n",
      "\n",
      "Making PDB mappings for Moderna_6validations to ../data/pdbs/6M0J.pdb\n",
      "Making mappings for 6 conditions.\n",
      "Mapping to the following chain: E\n",
      "  Writing B-factor re-assigned PDBs for Moderna_6validations to:\n",
      "    ../results/moderna_custom_plots/pdb_outputs/Moderna_6validations_6m0j_mean_total_escape.pdb\n",
      "\n",
      "Making PDB mappings for Moderna_100ug to ../data/pdbs/6M0J.pdb\n",
      "Making mappings for 8 conditions.\n",
      "Mapping to the following chain: E\n",
      "  Writing B-factor re-assigned PDBs for Moderna_100ug to:\n",
      "    ../results/moderna_custom_plots/pdb_outputs/Moderna_100ug_6m0j_mean_total_escape.pdb\n",
      "\n",
      "Making PDB mappings for Moderna_day36 to ../data/pdbs/6M0J.pdb\n",
      "Making mappings for 5 conditions.\n",
      "Mapping to the following chain: E\n",
      "  Writing B-factor re-assigned PDBs for Moderna_day36 to:\n",
      "    ../results/moderna_custom_plots/pdb_outputs/Moderna_day36_6m0j_mean_total_escape.pdb\n",
      "\n",
      "Making PDB mappings for Moderna_day119 to ../data/pdbs/6M0J.pdb\n",
      "Making mappings for 5 conditions.\n",
      "Mapping to the following chain: E\n",
      "  Writing B-factor re-assigned PDBs for Moderna_day119 to:\n",
      "    ../results/moderna_custom_plots/pdb_outputs/Moderna_day119_6m0j_mean_total_escape.pdb\n",
      "\n",
      "Making PDB mappings for Moderna_all_day119 to ../data/pdbs/6M0J.pdb\n",
      "Making mappings for 23 conditions.\n",
      "Mapping to the following chain: E\n",
      "  Writing B-factor re-assigned PDBs for Moderna_all_day119 to:\n",
      "    ../results/moderna_custom_plots/pdb_outputs/Moderna_all_day119_6m0j_mean_total_escape.pdb\n",
      "\n",
      "Making PDB mappings for Moderna_250ug_day119 to ../data/pdbs/6M0J.pdb\n",
      "Making mappings for 15 conditions.\n",
      "Mapping to the following chain: E\n",
      "  Writing B-factor re-assigned PDBs for Moderna_250ug_day119 to:\n",
      "    ../results/moderna_custom_plots/pdb_outputs/Moderna_250ug_day119_6m0j_mean_total_escape.pdb\n",
      "\n",
      "Making PDB mappings for haarvi_100d to ../data/pdbs/6M0J.pdb\n",
      "Making mappings for 11 conditions.\n",
      "Mapping to the following chain: E\n",
      "  Writing B-factor re-assigned PDBs for haarvi_100d to:\n",
      "    ../results/moderna_custom_plots/pdb_outputs/haarvi_100d_6m0j_mean_total_escape.pdb\n",
      "\n",
      "Making PDB mappings for haarvi_30d to ../data/pdbs/6M0J.pdb\n",
      "Making mappings for 11 conditions.\n",
      "Mapping to the following chain: E\n",
      "  Writing B-factor re-assigned PDBs for haarvi_30d to:\n",
      "    ../results/moderna_custom_plots/pdb_outputs/haarvi_30d_6m0j_mean_total_escape.pdb\n"
     ]
    }
   ],
   "source": [
    "pdbfile = '../data/pdbs/6M0J.pdb'\n",
    "assert os.path.isfile(pdbfile)\n",
    "rbd_chain = config['escape_frac_protein_chain']\n",
    "assert isinstance(rbd_chain, str)\n",
    "\n",
    "for name in escape_profiles_config:\n",
    "    print(f\"\\nMaking PDB mappings for {name} to {pdbfile}\")\n",
    "    \n",
    "    # get conditions from escape_profiles_config.yaml\n",
    "    conditions = escape_profiles_config[name]['conditions'].keys()\n",
    "    print(f\"Making mappings for {len(conditions)} conditions.\")\n",
    "    \n",
    "    # get escape fracs just for conditions of interest\n",
    "    df = escape_fracs.query('selection in @conditions')\n",
    "    \n",
    "    # assign average total_escape at each site across all the conditions in ab_class\n",
    "    df = (df\n",
    "          .groupby(['site'])\n",
    "          .aggregate(mean_total_escape=pd.NamedAgg('total_escape', 'mean'),\n",
    "                      )\n",
    "          .reset_index()\n",
    "          .drop_duplicates()\n",
    "         )\n",
    "    \n",
    "    # get chains\n",
    "    print(f'Mapping to the following chain: {rbd_chain}')\n",
    "    df = df.assign(chain=rbd_chain)\n",
    "    \n",
    "    \n",
    "    # make mappings for each condition and metric\n",
    "    print(f\"  Writing B-factor re-assigned PDBs for {name} to:\")\n",
    "\n",
    "    for metric in ['mean_total_escape']: # keeping this as list because we might need to normalize\n",
    "\n",
    "        # what do we assign to missing sites?\n",
    "        missing_metric = collections.defaultdict(lambda: 0)  # non-RBD chains always fill to zero\n",
    "        missing_metric[rbd_chain] = -1  # missing sites in RBD are -1 for non-normalized metric PDBs\n",
    "\n",
    "        fname = os.path.join(resultsdir, f\"{name}_6m0j_{metric}.pdb\")\n",
    "        print(f\"    {fname}\")\n",
    "\n",
    "        dms_variants.pdb_utils.reassign_b_factor(input_pdbfile=pdbfile,\n",
    "                                                 output_pdbfile=fname,\n",
    "                                                 df=df,\n",
    "                                                 metric_col=metric,\n",
    "                                                 missing_metric=missing_metric)"
   ]
  },
  {
   "cell_type": "code",
   "execution_count": null,
   "metadata": {},
   "outputs": [],
   "source": []
  }
 ],
 "metadata": {
  "language_info": {
   "name": "python"
  }
 },
 "nbformat": 4,
 "nbformat_minor": 4
}
